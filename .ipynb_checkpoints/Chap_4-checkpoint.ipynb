{
 "cells": [
  {
   "cell_type": "markdown",
   "id": "expired-tract",
   "metadata": {},
   "source": [
    "## 인공지능 빅데이터공학과 18118046 전효성"
   ]
  },
  {
   "cell_type": "markdown",
   "id": "occupational-holocaust",
   "metadata": {},
   "source": [
    "# 리스트 4-3-(1)"
   ]
  },
  {
   "cell_type": "code",
   "execution_count": 2,
   "id": "swedish-wrapping",
   "metadata": {},
   "outputs": [],
   "source": [
    "import numpy as np"
   ]
  },
  {
   "cell_type": "code",
   "execution_count": 3,
   "id": "automotive-giving",
   "metadata": {},
   "outputs": [
    {
     "name": "stdout",
     "output_type": "stream",
     "text": [
      "[[1 2 3]\n",
      " [4 5 6]]\n"
     ]
    }
   ],
   "source": [
    "A = np.array([[1, 2, 3], [4, 5, 6]])\n",
    "print(A)"
   ]
  },
  {
   "cell_type": "markdown",
   "id": "renewable-decision",
   "metadata": {},
   "source": [
    "# list 4-3-(3)"
   ]
  },
  {
   "cell_type": "code",
   "execution_count": 5,
   "id": "united-calvin",
   "metadata": {},
   "outputs": [
    {
     "name": "stdout",
     "output_type": "stream",
     "text": [
      "[[ 7  8  9]\n",
      " [10 11 12]]\n"
     ]
    }
   ],
   "source": [
    "B = np.array([[7 , 8, 9], [10, 11, 12]])\n",
    "print(B)"
   ]
  },
  {
   "cell_type": "markdown",
   "id": "religious-montgomery",
   "metadata": {},
   "source": [
    "# list 4-3-(4)"
   ]
  },
  {
   "cell_type": "code",
   "execution_count": 6,
   "id": "chinese-patent",
   "metadata": {},
   "outputs": [
    {
     "name": "stdout",
     "output_type": "stream",
     "text": [
      "[[ 8 10 12]\n",
      " [14 16 18]]\n",
      "[[-6 -6 -6]\n",
      " [-6 -6 -6]]\n"
     ]
    }
   ],
   "source": [
    "print(A + B)\n",
    "print(A - B)"
   ]
  },
  {
   "cell_type": "markdown",
   "id": "practical-blocking",
   "metadata": {},
   "source": [
    "# 4.6.3 스칼라배\n",
    "## list 4-3-(5)"
   ]
  },
  {
   "cell_type": "code",
   "execution_count": 7,
   "id": "unlimited-librarian",
   "metadata": {},
   "outputs": [
    {
     "name": "stdout",
     "output_type": "stream",
     "text": [
      "[[ 2  4  6]\n",
      " [ 8 10 12]]\n"
     ]
    }
   ],
   "source": [
    "A = np.array([[1, 2, 3], [4, 5, 6]])\n",
    "print(2 * A)"
   ]
  },
  {
   "cell_type": "markdown",
   "id": "molecular-freight",
   "metadata": {},
   "source": [
    "## list 3-4-(6)"
   ]
  },
  {
   "cell_type": "code",
   "execution_count": 8,
   "id": "narrow-gothic",
   "metadata": {},
   "outputs": [
    {
     "name": "stdout",
     "output_type": "stream",
     "text": [
      "32\n"
     ]
    }
   ],
   "source": [
    "A = np.array([1, 2, 3])\n",
    "B = np.array([4, 5, 6])\n",
    "print(A.dot(B))"
   ]
  },
  {
   "cell_type": "markdown",
   "id": "ordinary-norwegian",
   "metadata": {},
   "source": [
    "## list 3-4-(7)"
   ]
  },
  {
   "cell_type": "code",
   "execution_count": 9,
   "id": "decimal-basketball",
   "metadata": {},
   "outputs": [
    {
     "name": "stdout",
     "output_type": "stream",
     "text": [
      "[ 4 10 18]\n"
     ]
    }
   ],
   "source": [
    "A = np.array([1, 2, 3])\n",
    "B = np.array([4, 5, 6])\n",
    "print(A * B)"
   ]
  },
  {
   "cell_type": "markdown",
   "id": "alert-madonna",
   "metadata": {},
   "source": [
    "## list 3-4-(8)"
   ]
  },
  {
   "cell_type": "code",
   "execution_count": 10,
   "id": "according-tribune",
   "metadata": {},
   "outputs": [
    {
     "name": "stdout",
     "output_type": "stream",
     "text": [
      "[0.25 0.4  0.5 ]\n"
     ]
    }
   ],
   "source": [
    "A = np.array([1, 2, 3])\n",
    "B = np.array([4, 5, 6])\n",
    "print(A / B)"
   ]
  },
  {
   "cell_type": "markdown",
   "id": "developmental-grenada",
   "metadata": {},
   "source": [
    "## list 3-4-(9)"
   ]
  },
  {
   "cell_type": "code",
   "execution_count": 13,
   "id": "designed-marine",
   "metadata": {},
   "outputs": [
    {
     "name": "stdout",
     "output_type": "stream",
     "text": [
      "[[ 32 -32]\n",
      " [-32  32]]\n"
     ]
    }
   ],
   "source": [
    "A = np.array([[1, 2 ,3], [-1, -2, -3]])\n",
    "B = np.array([[4, -4], [5, -5], [6, -6]])\n",
    "print(A.dot(B))"
   ]
  },
  {
   "cell_type": "markdown",
   "id": "dirty-discharge",
   "metadata": {},
   "source": [
    "# 4.6.5 identity matrix\n",
    "## list 4-3-(10)"
   ]
  },
  {
   "cell_type": "code",
   "execution_count": 14,
   "id": "stupid-pointer",
   "metadata": {},
   "outputs": [
    {
     "name": "stdout",
     "output_type": "stream",
     "text": [
      "[[1. 0. 0.]\n",
      " [0. 1. 0.]\n",
      " [0. 0. 1.]]\n"
     ]
    }
   ],
   "source": [
    "print(np.identity(3))"
   ]
  },
  {
   "cell_type": "markdown",
   "id": "protective-boxing",
   "metadata": {},
   "source": [
    "## list 3-4-(11)"
   ]
  },
  {
   "cell_type": "code",
   "execution_count": 19,
   "id": "adverse-mustang",
   "metadata": {},
   "outputs": [
    {
     "name": "stdout",
     "output_type": "stream",
     "text": [
      "[[1. 2. 3.]\n",
      " [4. 5. 6.]\n",
      " [7. 8. 9.]]\n"
     ]
    }
   ],
   "source": [
    "A = np.array([[1, 2, 3],[4, 5, 6], [7, 8, 9]])\n",
    "I = np.identity(3)\n",
    "print(A.dot(I))"
   ]
  },
  {
   "cell_type": "markdown",
   "id": "noticed-advocacy",
   "metadata": {},
   "source": [
    "# invertible matrix\n",
    "## list 4-3-(12)"
   ]
  },
  {
   "cell_type": "code",
   "execution_count": 20,
   "id": "fluid-skiing",
   "metadata": {},
   "outputs": [
    {
     "name": "stdout",
     "output_type": "stream",
     "text": [
      "[[-2.   1. ]\n",
      " [ 1.5 -0.5]]\n"
     ]
    }
   ],
   "source": [
    "A = np.array([[1, 2], [3, 4]])\n",
    "invA = np.linalg.inv(A)\n",
    "print(invA)"
   ]
  },
  {
   "cell_type": "markdown",
   "id": "stopped-drive",
   "metadata": {},
   "source": [
    "# transpose matrix\n",
    "## list 4-3-(13)"
   ]
  },
  {
   "cell_type": "code",
   "execution_count": 22,
   "id": "electric-daisy",
   "metadata": {},
   "outputs": [
    {
     "name": "stdout",
     "output_type": "stream",
     "text": [
      "[[1 2 3]\n",
      " [4 5 6]]\n",
      "[[1 4]\n",
      " [2 5]\n",
      " [3 6]]\n"
     ]
    }
   ],
   "source": [
    "A = np.array([[1, 2, 3], [4, 5, 6]])\n",
    "print(A)\n",
    "print(A.T)"
   ]
  },
  {
   "cell_type": "code",
   "execution_count": null,
   "id": "printable-ribbon",
   "metadata": {},
   "outputs": [],
   "source": []
  }
 ],
 "metadata": {
  "kernelspec": {
   "display_name": "Python 3",
   "language": "python",
   "name": "python3"
  },
  "language_info": {
   "codemirror_mode": {
    "name": "ipython",
    "version": 3
   },
   "file_extension": ".py",
   "mimetype": "text/x-python",
   "name": "python",
   "nbconvert_exporter": "python",
   "pygments_lexer": "ipython3",
   "version": "3.6.13"
  }
 },
 "nbformat": 4,
 "nbformat_minor": 5
}
