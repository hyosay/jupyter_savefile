{
 "cells": [
  {
   "cell_type": "code",
   "execution_count": 1,
   "id": "emerging-withdrawal",
   "metadata": {},
   "outputs": [],
   "source": [
    "import numpy as np"
   ]
  },
  {
   "cell_type": "code",
   "execution_count": 46,
   "id": "cosmetic-bibliography",
   "metadata": {
    "scrolled": false
   },
   "outputs": [
    {
     "name": "stdout",
     "output_type": "stream",
     "text": [
      "0.5\n"
     ]
    }
   ],
   "source": [
    "def sigmoid(x):\n",
    "    y = 1 / (1 + np.exp(-x))\n",
    "    return y\n",
    "y = sigmoid(0)\n",
    "print(y)"
   ]
  },
  {
   "cell_type": "code",
   "execution_count": 47,
   "id": "empty-nicaragua",
   "metadata": {
    "scrolled": true
   },
   "outputs": [
    {
     "name": "stdout",
     "output_type": "stream",
     "text": [
      "0.25\n"
     ]
    }
   ],
   "source": [
    "yy = y * (1.0 - y)\n",
    "print(yy)"
   ]
  },
  {
   "cell_type": "code",
   "execution_count": 76,
   "id": "cubic-determination",
   "metadata": {},
   "outputs": [
    {
     "name": "stdout",
     "output_type": "stream",
     "text": [
      "[0 1 2 3 4]\n"
     ]
    },
    {
     "data": {
      "text/plain": [
       "numpy.ndarray"
      ]
     },
     "execution_count": 76,
     "metadata": {},
     "output_type": "execute_result"
    }
   ],
   "source": [
    "b = np.arange(0,5,1)\n",
    "print(b)\n",
    "type(b)"
   ]
  },
  {
   "cell_type": "code",
   "execution_count": 7,
   "id": "sharing-destination",
   "metadata": {},
   "outputs": [
    {
     "name": "stdout",
     "output_type": "stream",
     "text": [
      "[7.801341612780744e-05, 0.00021206245143623275, 0.0005764455082375903, 0.0015669413501390806, 0.004259388198344145, 0.011578217539911801, 0.031472858344688034, 0.08555209892803112, 0.23255471590259755, 0.6321492583604866]\n",
      "1.0\n"
     ]
    }
   ],
   "source": [
    "x = np.arange(-5, 5, 1)\n",
    "y = []\n",
    "def softmax(x):\n",
    "    u = 0\n",
    "    for i in range(len(x)):\n",
    "        u = u + np.exp(x[i])\n",
    "        \n",
    "    for j in range(len(x)):\n",
    "        y.append(np.exp(x[j]) / u)\n",
    "    return y\n",
    "print(softmax(x))\n",
    "print(sum(y))\n"
   ]
  },
  {
   "cell_type": "code",
   "execution_count": null,
   "id": "initial-deployment",
   "metadata": {},
   "outputs": [],
   "source": []
  },
  {
   "cell_type": "code",
   "execution_count": null,
   "id": "ethical-stuart",
   "metadata": {},
   "outputs": [],
   "source": []
  }
 ],
 "metadata": {
  "kernelspec": {
   "display_name": "Python 3",
   "language": "python",
   "name": "python3"
  },
  "language_info": {
   "codemirror_mode": {
    "name": "ipython",
    "version": 3
   },
   "file_extension": ".py",
   "mimetype": "text/x-python",
   "name": "python",
   "nbconvert_exporter": "python",
   "pygments_lexer": "ipython3",
   "version": "3.6.13"
  }
 },
 "nbformat": 4,
 "nbformat_minor": 5
}
