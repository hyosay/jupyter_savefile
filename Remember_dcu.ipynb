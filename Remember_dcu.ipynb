{
 "cells": [
  {
   "cell_type": "markdown",
   "id": "stable-wedding",
   "metadata": {},
   "source": [
    "# 오늘은 입출력문에 대해서 공부하겠습니다.\n",
    "\n",
    ">\n",
    ">\n",
    ">\n",
    ">\n",
    ">\n",
    ">\n",
    ">\n",
    ">\n",
    ">\n",
    ">\n",
    ">\n",
    ">\n",
    ">\n",
    ">\n",
    ">\n",
    ">\n",
    ">\n"
   ]
  },
  {
   "cell_type": "markdown",
   "id": "sophisticated-miniature",
   "metadata": {},
   "source": [
    "# 문자열 입출력"
   ]
  },
  {
   "cell_type": "code",
   "execution_count": 15,
   "id": "right-option",
   "metadata": {},
   "outputs": [
    {
     "name": "stdout",
     "output_type": "stream",
     "text": [
      "15\n"
     ]
    }
   ],
   "source": [
    "a = input() #변수a에 값을 넣는다. c언어의 scanf와 같다."
   ]
  },
  {
   "cell_type": "code",
   "execution_count": 16,
   "id": "constitutional-prototype",
   "metadata": {},
   "outputs": [
    {
     "name": "stdout",
     "output_type": "stream",
     "text": [
      "15\n"
     ]
    }
   ],
   "source": [
    "print(a)"
   ]
  },
  {
   "cell_type": "code",
   "execution_count": 17,
   "id": "varied-clark",
   "metadata": {},
   "outputs": [
    {
     "name": "stdout",
     "output_type": "stream",
     "text": [
      "<class 'str'>\n"
     ]
    }
   ],
   "source": [
    "print(type(a))"
   ]
  },
  {
   "cell_type": "code",
   "execution_count": 21,
   "id": "faced-inspection",
   "metadata": {},
   "outputs": [],
   "source": [
    "b = int(a) # 변수명은 상관이 없음"
   ]
  },
  {
   "cell_type": "code",
   "execution_count": 22,
   "id": "arbitrary-accommodation",
   "metadata": {},
   "outputs": [
    {
     "name": "stdout",
     "output_type": "stream",
     "text": [
      "15\n",
      "<class 'int'>\n"
     ]
    }
   ],
   "source": [
    "print(b)\n",
    "print(type(b))"
   ]
  },
  {
   "cell_type": "markdown",
   "id": "certain-relay",
   "metadata": {},
   "source": [
    "# 6010"
   ]
  },
  {
   "cell_type": "code",
   "execution_count": 24,
   "id": "outstanding-religion",
   "metadata": {},
   "outputs": [
    {
     "name": "stdout",
     "output_type": "stream",
     "text": [
      "15\n",
      "<class 'str'>\n",
      "<class 'int'>\n",
      "15\n"
     ]
    }
   ],
   "source": [
    "n = input()\n",
    "print(type(n))\n",
    "n = int(n)\n",
    "print(type(n))\n",
    "print(n)"
   ]
  },
  {
   "cell_type": "markdown",
   "id": "advanced-norman",
   "metadata": {},
   "source": [
    "# 6011"
   ]
  },
  {
   "cell_type": "code",
   "execution_count": 26,
   "id": "defensive-conservative",
   "metadata": {
    "scrolled": true
   },
   "outputs": [
    {
     "name": "stdout",
     "output_type": "stream",
     "text": [
      "3.25\n",
      "<class 'str'>\n",
      "<class 'float'>\n",
      "3.25\n"
     ]
    }
   ],
   "source": [
    "f = input()\n",
    "print(type(f))\n",
    "f = float(f)\n",
    "print(type(f))\n",
    "print(f)"
   ]
  },
  {
   "cell_type": "markdown",
   "id": "traditional-bridges",
   "metadata": {},
   "source": [
    "# 6010, 6011문제 한줄코딩 해보기\n",
    "-----------------------------------\n",
    "* ## 힌트"
   ]
  },
  {
   "cell_type": "code",
   "execution_count": 31,
   "id": "broad-night",
   "metadata": {
    "scrolled": true
   },
   "outputs": [
    {
     "name": "stdout",
     "output_type": "stream",
     "text": [
      "33\n",
      "<class 'str'>\n"
     ]
    }
   ],
   "source": [
    "print(type(input())) #변수를 지정하지 않아도 된다"
   ]
  },
  {
   "cell_type": "markdown",
   "id": "another-bankruptcy",
   "metadata": {},
   "source": [
    "int, float문으로 바꿔봅시다."
   ]
  },
  {
   "cell_type": "code",
   "execution_count": 32,
   "id": "transparent-korea",
   "metadata": {},
   "outputs": [
    {
     "name": "stdout",
     "output_type": "stream",
     "text": [
      "33\n",
      "33\n"
     ]
    }
   ],
   "source": [
    "print(int(input()))"
   ]
  },
  {
   "cell_type": "code",
   "execution_count": 34,
   "id": "generic-tradition",
   "metadata": {
    "scrolled": true
   },
   "outputs": [
    {
     "name": "stdout",
     "output_type": "stream",
     "text": [
      "3\n",
      "3.0\n"
     ]
    }
   ],
   "source": [
    "print(float(input()))"
   ]
  },
  {
   "cell_type": "code",
   "execution_count": 35,
   "id": "fiscal-gentleman",
   "metadata": {},
   "outputs": [
    {
     "name": "stdout",
     "output_type": "stream",
     "text": [
      "1\n"
     ]
    }
   ],
   "source": [
    "a = input()\n",
    "a = int(a)"
   ]
  },
  {
   "cell_type": "code",
   "execution_count": 37,
   "id": "appointed-driving",
   "metadata": {},
   "outputs": [
    {
     "name": "stdout",
     "output_type": "stream",
     "text": [
      "4\n",
      "<class 'int'>\n"
     ]
    }
   ],
   "source": [
    "a = int(input())\n",
    "print(type(a))"
   ]
  },
  {
   "cell_type": "code",
   "execution_count": 39,
   "id": "optical-shelf",
   "metadata": {},
   "outputs": [
    {
     "name": "stdout",
     "output_type": "stream",
     "text": [
      "c\n",
      "d\n",
      "d\n",
      "c\n"
     ]
    }
   ],
   "source": [
    "a = input()\n",
    "b = input()\n",
    "print(b)\n",
    "print(a)"
   ]
  },
  {
   "cell_type": "code",
   "execution_count": 45,
   "id": "potential-heating",
   "metadata": {},
   "outputs": [
    {
     "name": "stdout",
     "output_type": "stream",
     "text": [
      "1 4 6\n",
      "1\n",
      "4\n",
      "6\n"
     ]
    }
   ],
   "source": [
    "a, b, c = input().split()\n",
    "print(a)\n",
    "print(b)\n",
    "print(c)"
   ]
  },
  {
   "cell_type": "code",
   "execution_count": 50,
   "id": "executive-israel",
   "metadata": {
    "scrolled": true
   },
   "outputs": [
    {
     "name": "stdout",
     "output_type": "stream",
     "text": [
      "1 2\n",
      "<class 'str'>\n",
      "<class 'str'>\n",
      "1\n",
      "2\n"
     ]
    }
   ],
   "source": [
    "a, b = input().split()\n",
    "print(type(a))\n",
    "print(type(b))\n",
    "\n",
    "\n",
    "a = int(a)\n",
    "b = int(b)\n",
    "print(a)\n",
    "print(b)"
   ]
  },
  {
   "cell_type": "markdown",
   "id": "russian-liechtenstein",
   "metadata": {},
   "source": []
  },
  {
   "cell_type": "code",
   "execution_count": 59,
   "id": "structured-chorus",
   "metadata": {
    "scrolled": true
   },
   "outputs": [
    {
     "name": "stdout",
     "output_type": "stream",
     "text": [
      "1 2\n"
     ]
    }
   ],
   "source": [
    "a, b = map(int, input().split())\n"
   ]
  },
  {
   "cell_type": "markdown",
   "id": "broad-asset",
   "metadata": {},
   "source": [
    "## map을 사용하지 않았을때"
   ]
  },
  {
   "cell_type": "code",
   "execution_count": 60,
   "id": "stopped-difference",
   "metadata": {},
   "outputs": [
    {
     "name": "stdout",
     "output_type": "stream",
     "text": [
      "1 2\n",
      "3\n"
     ]
    }
   ],
   "source": [
    "a, b = input().split()\n",
    "a = int(a)\n",
    "b = int(b)\n",
    "print(a + b)"
   ]
  },
  {
   "cell_type": "markdown",
   "id": "portable-importance",
   "metadata": {},
   "source": [
    "## 주의"
   ]
  },
  {
   "cell_type": "code",
   "execution_count": 68,
   "id": "laughing-southeast",
   "metadata": {},
   "outputs": [
    {
     "name": "stdout",
     "output_type": "stream",
     "text": [
      "2 5\n",
      "25\n",
      "<class 'str'>\n"
     ]
    }
   ],
   "source": [
    "c, d = input().split()\n",
    "print(c + d) #int문으로 안바꾸면 문자열이 합쳐짐\n",
    "print(type(c + d))"
   ]
  },
  {
   "cell_type": "code",
   "execution_count": 6,
   "id": "aggregate-vertical",
   "metadata": {
    "scrolled": true
   },
   "outputs": [
    {
     "name": "stdout",
     "output_type": "stream",
     "text": [
      "65\n"
     ]
    }
   ],
   "source": [
    "print(ord('A'))"
   ]
  },
  {
   "cell_type": "code",
   "execution_count": 14,
   "id": "adaptive-brick",
   "metadata": {},
   "outputs": [
    {
     "name": "stdout",
     "output_type": "stream",
     "text": [
      "123\n",
      "123\n",
      "5\n"
     ]
    }
   ],
   "source": [
    "a = int(input())\n",
    "b = int(input())\n",
    "\n",
    "print(345 % 100 % 10)\n",
    "exec"
   ]
  },
  {
   "cell_type": "code",
   "execution_count": null,
   "id": "alert-trademark",
   "metadata": {},
   "outputs": [],
   "source": [
    "a = int(input())\n",
    "b = int(input())\n",
    "ssum = a * b\n",
    "for i in [100, 10 ,1]:\n",
    "    print(a * (b // i))\n",
    "    b = b % i\n",
    "print(ssum)"
   ]
  },
  {
   "cell_type": "code",
   "execution_count": 15,
   "id": "acute-interstate",
   "metadata": {},
   "outputs": [
    {
     "name": "stdout",
     "output_type": "stream",
     "text": [
      "1 2 3\n",
      "1 2 3\n"
     ]
    }
   ],
   "source": [
    "a, b ,c = map(int, input().split())\n",
    "print(a, b, c)"
   ]
  },
  {
   "cell_type": "code",
   "execution_count": null,
   "id": "legendary-fancy",
   "metadata": {},
   "outputs": [],
   "source": [
    "a= 1\n",
    "for i in range(int(input()) + 1):"
   ]
  },
  {
   "cell_type": "code",
   "execution_count": null,
   "id": "contemporary-reply",
   "metadata": {},
   "outputs": [],
   "source": [
    "while True:\n",
    "    if i <= 1:\n",
    "        return 1\n",
    "    i = i + 1"
   ]
  }
 ],
 "metadata": {
  "kernelspec": {
   "display_name": "Python 3",
   "language": "python",
   "name": "python3"
  },
  "language_info": {
   "codemirror_mode": {
    "name": "ipython",
    "version": 3
   },
   "file_extension": ".py",
   "mimetype": "text/x-python",
   "name": "python",
   "nbconvert_exporter": "python",
   "pygments_lexer": "ipython3",
   "version": "3.6.13"
  }
 },
 "nbformat": 4,
 "nbformat_minor": 5
}
