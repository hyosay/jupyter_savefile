{
 "cells": [
  {
   "cell_type": "markdown",
   "id": "behind-customs",
   "metadata": {},
   "source": [
    "# if 문"
   ]
  },
  {
   "cell_type": "code",
   "execution_count": 2,
   "id": "wired-walter",
   "metadata": {
    "scrolled": false
   },
   "outputs": [
    {
     "name": "stdout",
     "output_type": "stream",
     "text": [
      "5 10\n",
      "a가 더 작습니다\n"
     ]
    }
   ],
   "source": [
    "a, b = map(int, input().split())\n",
    "if a > b:\n",
    "    print('>')\n",
    "elif a < b:\n",
    "    print('<')\n",
    "else\n",
    "    print('==')"
   ]
  },
  {
   "cell_type": "markdown",
   "id": "coral-expert",
   "metadata": {},
   "source": [
    "## 시험 성적\n",
    "* and 와 or 조건문을 사용해야합니다.\n",
    "* ### and, or을 사용하지 않으면 안됩니다.    (중요)프로그래머들의 약속\n",
    "> ### if 90 < 점수 < 95    <- (x)\n",
    "> ### if 90 < 점수 and 점수 < 95    <-(o) "
   ]
  },
  {
   "cell_type": "markdown",
   "id": "fatty-feeding",
   "metadata": {},
   "source": [
    "# 1"
   ]
  },
  {
   "cell_type": "code",
   "execution_count": null,
   "id": "common-interval",
   "metadata": {},
   "outputs": [],
   "source": [
    "N = int(input())\n",
    "if 90 <= N and N <= 100:\n",
    "    print(\"A\")\n",
    "elif 80 <= N and N <= 89:\n",
    "    print(\"B\")\n",
    "elif 70 <= N and N <= 79:\n",
    "    print(\"C\")\n",
    "elif 60<= N and N <= 69:\n",
    "    print(\"D\")\n",
    "else:\n",
    "    print(\"F\")"
   ]
  },
  {
   "cell_type": "markdown",
   "id": "engaging-scratch",
   "metadata": {},
   "source": [
    "# 2"
   ]
  },
  {
   "cell_type": "code",
   "execution_count": null,
   "id": "whole-melissa",
   "metadata": {},
   "outputs": [],
   "source": [
    "score = int(input())\n",
    "if score  >= 90:\n",
    "    print('A')\n",
    "elif score >=80:\n",
    "    print('B')\n",
    "elif score >=70:\n",
    "    print('C')\n",
    "elif score >=60:\n",
    "    print('D')\n",
    "else:\n",
    "    print('F')"
   ]
  },
  {
   "cell_type": "markdown",
   "id": "tired-summit",
   "metadata": {},
   "source": [
    "# 윤년\n",
    "* 이중 if문을 사용해서 푼다\n",
    "* 이중 if문 안쓰고 실행이 되네요,,,\n",
    "* % 나머지 연산자를 쓴다.\n",
    "* 이 코드에서 조건을 추가해서 정담을 맞춰보세요!!"
   ]
  },
  {
   "cell_type": "code",
   "execution_count": 4,
   "id": "julian-hartford",
   "metadata": {
    "scrolled": false
   },
   "outputs": [
    {
     "name": "stdout",
     "output_type": "stream",
     "text": [
      "2000\n",
      "0\n"
     ]
    }
   ],
   "source": [
    "years = int(input())\n",
    "\n",
    "if years % 4 == 0:\n",
    "    if years % 100 != 0:\n",
    "        print(1)\n",
    "    elif years % 400 == 0:\n",
    "        print(1)\n",
    "    else:\n",
    "        print(0)\n",
    "else:\n",
    "    print(0)"
   ]
  },
  {
   "cell_type": "code",
   "execution_count": null,
   "id": "short-homeless",
   "metadata": {},
   "outputs": [],
   "source": [
    "a = int(input())\n",
    "if (a % 4 == 0 and a % 100 != 0) or a % 400 == 0:\n",
    "    print(1)\n",
    "else:\n",
    "    print(0)"
   ]
  },
  {
   "cell_type": "markdown",
   "id": "clear-bristol",
   "metadata": {},
   "source": [
    "# 사분면\n",
    "+ (x, y) 가 (양수,양수)이면 1사분면\n",
    "+ (x, y) 가 (음, 양)이면 2사분면\n",
    "+ (x, y) 가 (음수,음수)이면 3사분면\n",
    "+ (x, y) 가 (양 ,음)이면 4사분면"
   ]
  },
  {
   "cell_type": "code",
   "execution_count": 5,
   "id": "brilliant-intention",
   "metadata": {},
   "outputs": [
    {
     "data": {
      "image/png": "[encoded data removed]",
      "text/plain": [
       "<Figure size 432x288 with 1 Axes>"
      ]
     },
     "metadata": {
      "needs_background": "light"
     },
     "output_type": "display_data"
    }
   ],
   "source": [
    "# 그림만 보세요\n",
    "\n",
    "\n",
    "import matplotlib.pyplot as plt\n",
    "import numpy as np\n",
    "\n",
    "x = np.linspace(-20, 20, 20)\n",
    "y = np.zeros(20)\n",
    "x_x = np.zeros(20)\n",
    "y_y = np.linspace(-20, 20,20)\n",
    "plt.xlim(-15, 15)\n",
    "plt.ylim(-15, 15)\n",
    "plt.plot(x,y,color='red', label='$x$')\n",
    "plt.plot(x_x,y_y,color='blue',label='$y$')\n",
    "plt.legend(loc='upper left')\n",
    "\n",
    "plt.grid(True)\n",
    "\n",
    "def line_x(x):\n",
    "    y = x\n",
    "    return y\n"
   ]
  }
 ],
 "metadata": {
  "kernelspec": {
   "display_name": "Python 3",
   "language": "python",
   "name": "python3"
  },
  "language_info": {
   "codemirror_mode": {
    "name": "ipython",
    "version": 3
   },
   "file_extension": ".py",
   "mimetype": "text/x-python",
   "name": "python",
   "nbconvert_exporter": "python",
   "pygments_lexer": "ipython3",
   "version": "3.6.13"
  }
 },
 "nbformat": 4,
 "nbformat_minor": 5
}
