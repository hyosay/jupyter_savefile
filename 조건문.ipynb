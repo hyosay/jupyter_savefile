{
 "cells": [
  {
   "cell_type": "markdown",
   "id": "behind-customs",
   "metadata": {},
   "source": [
    "# if 문"
   ]
  },
  {
   "cell_type": "code",
   "execution_count": 23,
   "id": "wired-walter",
   "metadata": {
    "scrolled": false
   },
   "outputs": [
    {
     "name": "stdout",
     "output_type": "stream",
     "text": [
      "5 5\n",
      "a가 더 크거나 같습니다\n"
     ]
    }
   ],
   "source": [
    "a, b = map(int, input().split())\n",
    "\n",
    "if a >= b:\n",
    "    print('a가 더 크거나 같습니다')\n",
    "elif a < b:\n",
    "    print('a가 더 작습니다')"
   ]
  },
  {
   "cell_type": "markdown",
   "id": "coral-expert",
   "metadata": {},
   "source": [
    "## 시험 성적\n",
    "* and 와 or 조건문을 사용해야합니다.\n",
    "* ### and, or을 사용하지 않으면 안됩니다.    (중요)프로그래머들의 약속\n",
    "> ### if 90 < 점수 < 95    <- (x)\n",
    "> ### if 90 < 점수 and 점수 < 95    <-(o) "
   ]
  },
  {
   "cell_type": "code",
   "execution_count": 30,
   "id": "protective-ownership",
   "metadata": {},
   "outputs": [
    {
     "name": "stdout",
     "output_type": "stream",
     "text": [
      "96\n",
      "A+입니다\n"
     ]
    }
   ],
   "source": [
    "score = int(input())\n",
    "if score  >= 95:\n",
    "    print('A+입니다')\n",
    "elif 90 < score and socre <=94:\n",
    "    print('A입니다.')\n",
    "else:\n",
    "    print('점수를 다시 입력해주십시요.')"
   ]
  },
  {
   "cell_type": "markdown",
   "id": "tired-summit",
   "metadata": {},
   "source": [
    "# 윤년\n",
    "* 이중 if문을 사용해서 푼다\n",
    "* % 나머지 연산자를 쓴다.\n",
    "* 이 코드에서 조건을 추가해서 정담을 맞춰보세요!!"
   ]
  },
  {
   "cell_type": "code",
   "execution_count": 31,
   "id": "julian-hartford",
   "metadata": {},
   "outputs": [
    {
     "name": "stdout",
     "output_type": "stream",
     "text": [
      "1\n",
      "0\n"
     ]
    }
   ],
   "source": [
    "years = int(input())\n",
    "\n",
    "if years % 4 == 0:\n",
    "    if years % 100 != 0:\n",
    "        print(1)\n",
    "    else:\n",
    "        print(0)\n",
    "else:\n",
    "    print(0)"
   ]
  },
  {
   "cell_type": "markdown",
   "id": "clear-bristol",
   "metadata": {},
   "source": [
    "# 사분면\n",
    "* ### (x, y) 가 (양수,양수)이면 1사분면\n",
    "* ### (x, y) 가 (양수,음수)이면 2사분면\n",
    "* ### (x, y) 가 (음수,음수)이면 3사분면\n",
    "* ### (x, y) 가 (음수,양수)이면 4사분면"
   ]
  },
  {
   "cell_type": "code",
   "execution_count": 58,
   "id": "brilliant-intention",
   "metadata": {},
   "outputs": [
    {
     "data": {
      "image/png": "[encoded data removed]",
      "text/plain": [
       "<Figure size 432x288 with 1 Axes>"
      ]
     },
     "metadata": {
      "needs_background": "light"
     },
     "output_type": "display_data"
    }
   ],
   "source": [
    "import matplotlib.pyplot as plt\n",
    "import numpy as np\n",
    "x = np.linspace(-50, 50,10)\n",
    "y = np.zeros(10)\n",
    "x_x = np.zeros(10)\n",
    "y_y = np.linspace(-50, 50, 10)\n",
    "plt.plot(x,y)\n",
    "plt.plot(x_x,y_y)\n",
    "plt.xlim(-30, 30)\n",
    "plt.ylim(-30, 30)\n",
    "plt.grid(True)\n"
   ]
  },
  {
   "cell_type": "code",
   "execution_count": null,
   "id": "female-spank",
   "metadata": {},
   "outputs": [],
   "source": []
  }
 ],
 "metadata": {
  "kernelspec": {
   "display_name": "Python 3",
   "language": "python",
   "name": "python3"
  },
  "language_info": {
   "codemirror_mode": {
    "name": "ipython",
    "version": 3
   },
   "file_extension": ".py",
   "mimetype": "text/x-python",
   "name": "python",
   "nbconvert_exporter": "python",
   "pygments_lexer": "ipython3",
   "version": "3.6.13"
  }
 },
 "nbformat": 4,
 "nbformat_minor": 5
}
